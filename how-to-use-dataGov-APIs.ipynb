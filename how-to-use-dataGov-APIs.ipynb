{
 "cells": [
  {
   "cell_type": "markdown",
   "source": [
    "# this is a demo of how to use APIs from data-gov-in website\n",
    "## this is the only particular way to use dataGov APIs\n",
    "## now you have all data in nice format; do your further analysis"
   ],
   "metadata": {}
  },
  {
   "cell_type": "code",
   "execution_count": null,
   "source": [
    "import requests\n",
    "from bs4 import BeautifulSoup as bs"
   ],
   "outputs": [],
   "metadata": {}
  },
  {
   "cell_type": "code",
   "execution_count": null,
   "source": [
    "#-------user inputs\n",
    "api_key=input('your data.gov.in API key -->') #obviously required\n",
    "format='json' #json/xml/csv # required\n",
    "# for other formate some lines have to be edited; I personally love working with json\n",
    "offset=input('number of records to skip for pagination -->') # optional\n",
    "limit=input('maximum number of records to return -->') # otional :: max valid input is 10000\n",
    "#-------\n",
    "\n",
    "api_index='3b01bcb8-0b14-4abf-b6f2-c1bfd384ba69' # particular for this API(real time air quality)\n",
    "#----- to get api_index for your data set visite data-gov-in and then get api_index from link url or visit GET text ------#\n",
    "link='https://api.data.gov.in/resource/'+api_index+'?api-key='+api_key+'&format='+format+'&offset='+str(offset)+'&limit='+str(limit)\n",
    "# this link structure is explained on air index api page of data.gov.in more clearly"
   ],
   "outputs": [],
   "metadata": {}
  },
  {
   "cell_type": "code",
   "execution_count": null,
   "source": [
    "air_quality=requests.get(link)\n",
    "try:\n",
    "    air_quality.raise_for_status()\n",
    "except Exception as e:\n",
    "    print(e)\n",
    "\n",
    "if air_quality.status_code==200:\n",
    "    print('dataset is available')\n",
    "    json_data=air_quality.json()"
   ],
   "outputs": [],
   "metadata": {}
  },
  {
   "cell_type": "code",
   "execution_count": null,
   "source": [
    "## some meta info\n",
    "print('total number of keys in dict : ',len(json_data))\n",
    "print('meta information keys are : ',json_data.keys())\n",
    "if json_data['index_name']==api_index:\n",
    "    print('We have ',json_data['title'],' dataset from these orgs. ',json_data['org'])"
   ],
   "outputs": [],
   "metadata": {}
  },
  {
   "cell_type": "code",
   "execution_count": null,
   "source": [
    "air_quality_records=json_data['records']\n",
    "print('total number of results : ',len(air_quality_records))\n",
    "print('fields in records : ',air_quality_records[0].keys())"
   ],
   "outputs": [],
   "metadata": {}
  },
  {
   "cell_type": "code",
   "execution_count": null,
   "source": [
    "city_name=input('for which city ? please provide correct name of the city ')\n",
    "for i in range(len(air_quality_records)):\n",
    "    if air_quality_records[i]['city'].lower()==city_name.lower():\n",
    "        print(air_quality_records[i])\n",
    "    else:\n",
    "        print('we did not found your city in the dataset.')"
   ],
   "outputs": [],
   "metadata": {}
  }
 ],
 "metadata": {
  "orig_nbformat": 4,
  "language_info": {
   "name": "python",
   "version": "3.8.5",
   "mimetype": "text/x-python",
   "codemirror_mode": {
    "name": "ipython",
    "version": 3
   },
   "pygments_lexer": "ipython3",
   "nbconvert_exporter": "python",
   "file_extension": ".py"
  },
  "kernelspec": {
   "name": "python3",
   "display_name": "Python 3.8.5 64-bit ('base': conda)"
  },
  "interpreter": {
   "hash": "20d64e6457634db286bb2f57e568cdcaaf14f5fbfe37d467c75a4a80d0f4d780"
  }
 },
 "nbformat": 4,
 "nbformat_minor": 2
}