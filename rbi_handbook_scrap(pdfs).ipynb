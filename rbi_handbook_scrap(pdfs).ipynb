{
 "cells": [
  {
   "cell_type": "code",
   "execution_count": 192,
   "metadata": {},
   "outputs": [],
   "source": [
    "import requests\n",
    "import json\n",
    "from bs4 import BeautifulSoup as bs\n",
    "from tqdm import tqdm_notebook as tn\n",
    "from lxml import html\n",
    "import pandas as pd"
   ]
  },
  {
   "cell_type": "code",
   "execution_count": 193,
   "metadata": {},
   "outputs": [],
   "source": [
    "rbi_link='https://www.rbi.org.in/Scripts/AnnualPublications.aspx?head=Handbook%20of%20Statistics%20on%20Indian%20Economy'\n",
    "headers=requests.utils.default_headers()"
   ]
  },
  {
   "cell_type": "markdown",
   "metadata": {},
   "source": [
    "- handling 104 error: https://stackoverflow.com/questions/43165341/python3-requests-connectionerror-connection-aborted-oserror104-econnr"
   ]
  },
  {
   "cell_type": "code",
   "execution_count": 194,
   "metadata": {},
   "outputs": [],
   "source": [
    "headers['User-Agent']='Mozilla/5.0 (X11; Linux x86_64) AppleWebKit/537.36 (KHTML, like Gecko) Chrome/56.0.2924.87 Safari/537.36'"
   ]
  },
  {
   "cell_type": "code",
   "execution_count": 195,
   "metadata": {},
   "outputs": [
    {
     "name": "stdout",
     "output_type": "stream",
     "text": [
      "200\n"
     ]
    }
   ],
   "source": [
    "rbi=requests.get(rbi_link,headers=headers) # but I don;t it works without without headers specifically given into request.get()\n",
    "print(rbi.status_code)"
   ]
  },
  {
   "cell_type": "code",
   "execution_count": 196,
   "metadata": {},
   "outputs": [],
   "source": [
    "soup=bs(rbi.text,features='html.parser')\n",
    "# print(soup.prettify())"
   ]
  },
  {
   "cell_type": "code",
   "execution_count": 197,
   "metadata": {},
   "outputs": [],
   "source": [
    "## find all available links/PDF links on rbi handbook website\n",
    "rbi_all_pdf_link=[]\n",
    "rbi_links=[]\n",
    "for link in soup.find_all('a'):\n",
    "    s=link.get('href')\n",
    "    rbi_links.append(s)\n",
    "    if s!=None: # if link is not none condition on PDF\n",
    "        if s.find('PDF')!=-1: # doing special finding implementation about this webpage\n",
    "            rbi_all_pdf_link.append(link.get('href'))"
   ]
  },
  {
   "cell_type": "code",
   "execution_count": 198,
   "metadata": {},
   "outputs": [],
   "source": [
    "## to get all the text on webpage\n",
    "all_text=soup.get_text()"
   ]
  },
  {
   "cell_type": "code",
   "execution_count": 199,
   "metadata": {},
   "outputs": [],
   "source": [
    "link_title=[]\n",
    "link_url=[]\n",
    "link_size=[]\n",
    "total_size=0 ## possible with bit string work\n",
    "for link in soup.find(attrs={'class':'tablebg'}).find_all('tr'):\n",
    "    s=link.find('a')\n",
    "    if s!=None:\n",
    "        pdf_s=s.get('target')\n",
    "        if pdf_s=='_blank':\n",
    "            link_url.append(s.get('href'))\n",
    "            text=link.get_text().split('\\xa0')\n",
    "            link_title.append(text[0])\n",
    "            link_size.append(text[-1])\n",
    "            total_size+=float(text[-1].split(' ')[1])\n",
    "    else:\n",
    "        link_url.append('table header: no link')\n",
    "        text=link.get_text().split('\\xa0')\n",
    "        link_title.append(text[0])\n",
    "        link_size.append(' 0 kb') # as no link so no pdf to get \n",
    "        total_size+=0"
   ]
  },
  {
   "cell_type": "code",
   "execution_count": 200,
   "metadata": {},
   "outputs": [
    {
     "name": "stdout",
     "output_type": "stream",
     "text": [
      "Total size of the pdfs: 38.1 MB\n"
     ]
    }
   ],
   "source": [
    "print('Total size of the pdfs:',round(total_size/1000,1),'MB')"
   ]
  },
  {
   "cell_type": "code",
   "execution_count": 201,
   "metadata": {},
   "outputs": [],
   "source": [
    "rbi_handbook_df=pd.DataFrame({'pdfName':link_title,'pdfLink':link_url,'pdfSize':link_size})\n",
    "\n",
    "# making links clickable\n",
    "def make_clickable(val):\n",
    "    # target _blank to open new window\n",
    "    if val!='table header: no link':\n",
    "        return '<a target=\"_blank\" href=\"{}\">{}</a>'.format(val, val) # target blank given to open link in new tab\n",
    "    else:\n",
    "        return val\n",
    "\n",
    "rbi_handbook_df=rbi_handbook_df.style.format({'pdfLink': make_clickable})\n",
    "### uncomment to save as csv\n",
    "#rbi_handbook_df.to_csv('rbi-handbook-website-pdfs.csv',index=False)"
   ]
  }
 ],
 "metadata": {
  "kernelspec": {
   "display_name": "Python 3 (ipykernel)",
   "language": "python",
   "name": "python3"
  },
  "language_info": {
   "codemirror_mode": {
    "name": "ipython",
    "version": 3
   },
   "file_extension": ".py",
   "mimetype": "text/x-python",
   "name": "python",
   "nbconvert_exporter": "python",
   "pygments_lexer": "ipython3",
   "version": "3.8.5"
  }
 },
 "nbformat": 4,
 "nbformat_minor": 4
}
