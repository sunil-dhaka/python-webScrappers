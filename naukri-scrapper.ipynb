{
 "cells": [
  {
   "cell_type": "code",
   "execution_count": null,
   "source": [
    "#user input taken at start so when pages load need not wait\n",
    "user=input('username or email')\n",
    "pwd=input('password ')\n",
    "s1=input('give all jobs input. exa: python, scrapping, selenium etc')\n",
    "s2=input('where? exa: jaipur india')"
   ],
   "outputs": [],
   "metadata": {}
  },
  {
   "cell_type": "code",
   "execution_count": 112,
   "source": [
    "import requests\n",
    "from bs4 import BeautifulSoup as bs\n",
    "from selenium import webdriver\n",
    "import time\n",
    "import pandas as pd"
   ],
   "outputs": [],
   "metadata": {}
  },
  {
   "cell_type": "code",
   "execution_count": 113,
   "source": [
    "link='https://www.naukri.com'\n",
    "naukri=webdriver.Chrome()\n",
    "naukri.get(link)"
   ],
   "outputs": [],
   "metadata": {}
  },
  {
   "cell_type": "code",
   "execution_count": 114,
   "source": [
    "#login\n",
    "loginPage=naukri.find_element_by_xpath('//*[@id=\"login_Layer\"]/div')\n",
    "loginPage.click()\n",
    "time.sleep(5)"
   ],
   "outputs": [],
   "metadata": {}
  },
  {
   "cell_type": "code",
   "execution_count": 115,
   "source": [
    "username=naukri.find_element_by_xpath('//*[@id=\"root\"]/div[2]/div[2]/div/form/div[2]/input')\n",
    "username.send_keys(user)\n",
    "passwd=naukri.find_element_by_xpath('//*[@id=\"root\"]/div[2]/div[2]/div/form/div[3]/input')\n",
    "passwd.send_keys(pwd)\n",
    "time.sleep(5)\n",
    "passwd.submit()\n",
    "time.sleep(5)"
   ],
   "outputs": [],
   "metadata": {}
  },
  {
   "cell_type": "code",
   "execution_count": 116,
   "source": [
    "# to click chat bot cancle btn \n",
    "try: \n",
    "    chatbtn=naukri.find_element_by_xpath('//*[@id=\"_5sp059l2sNavbar\"]/div')\n",
    "    chatbtn.click()\n",
    "    time.sleep(5)\n",
    "except Exception as e:\n",
    "    print(e)\n"
   ],
   "outputs": [
    {
     "output_type": "stream",
     "name": "stdout",
     "text": [
      "Message: no such element: Unable to locate element: {\"method\":\"xpath\",\"selector\":\"//*[@id=\"_5sp059l2sNavbar\"]/div\"}\n",
      "  (Session info: chrome=94.0.4606.71)\n",
      "\n"
     ]
    }
   ],
   "metadata": {}
  },
  {
   "cell_type": "code",
   "execution_count": 117,
   "source": [
    "search1=naukri.find_element_by_xpath('//*[@id=\"qsb-keyskill-sugg\"]')\n",
    "search2=naukri.find_element_by_xpath('//*[@id=\"qsb-location-sugg\"]')\n",
    "search1.send_keys(s1)\n",
    "search2.send_keys(s2)\n",
    "time.sleep(3)\n",
    "search2.submit()"
   ],
   "outputs": [],
   "metadata": {}
  },
  {
   "cell_type": "code",
   "execution_count": 118,
   "source": [
    "title=[]\n",
    "link=[]\n",
    "company=[]\n",
    "salary=[]\n",
    "exp=[]\n",
    "location=[]\n",
    "discription=[]\n",
    "skills=[]\n",
    "howOld=[]\n",
    "job_id=[]\n",
    "\n",
    "#-----------------finds top 10 pages jobs if exists ------------#\n",
    "\n",
    "naukriSoup=bs(naukri.page_source.encode('utf-8'))\n",
    "\n",
    "#### needs to be sure if we have some results\n",
    "\n",
    "if naukriSoup.find('div',class_='fleft pages')!=None: \n",
    "    # can modify to be more sure\n",
    "    # infact this if-else condition is sufficient\n",
    "    total_pages=int(naukriSoup.find('div',class_='fleft pages').find_all('a')[-1].string)\n",
    "    for i in range(total_pages):\n",
    "        for job in naukriSoup.find_all('article',class_='jobTuple bgWhite br4 mb-8'):\n",
    "            job_id.append(job.get('daata-job-id'))\n",
    "            # title and link\n",
    "            title.append(job.a.get('title'))\n",
    "            link.append(job.a.get('href'))\n",
    "            company.append(job.find('div',{'class':'mt-7 companyInfo subheading lh16'}).a.get('title'))\n",
    "            # salary exp location\n",
    "            loc=job.find('li',{'class':'fleft grey-text br2 placeHolderLi location'})\n",
    "            if loc!=None:\n",
    "                location.append(loc.span.string)\n",
    "            else:\n",
    "                location.append('notFound')\n",
    "            loc=job.find('li',{'class':'fleft grey-text br2 placeHolderLi experience'})\n",
    "            if loc!=None:\n",
    "                exp.append(loc.span.string)\n",
    "            else:\n",
    "                exp.append('notFound')\n",
    "\n",
    "            loc=job.find('li',{'class':'fleft grey-text br2 placeHolderLi salary'})\n",
    "            if loc!=None:\n",
    "                salary.append(loc.span.string)\n",
    "            else:\n",
    "                salary.append('notFound')\n",
    "\n",
    "            if job.find('ul',class_='tags has-description')!=None:\n",
    "                skills.append(job.find('ul',class_='tags has-description').get_text())\n",
    "            else:\n",
    "                skills.append('wow! no skills')\n",
    "            \n",
    "            if job.find('i',class_='fleft mr-4 fs11 naukicon naukicon-history').span!=None:\n",
    "                howOld.append(job.find('i',class_='fleft mr-4 fs11 naukicon naukicon-history').span.get_text())\n",
    "            else:\n",
    "                howOld.append('notFound')\n",
    "\n",
    "            if job.find('div',class_='job-description fs12 grey-text')!=None:\n",
    "                discription.append(job.find('div',class_='job-description fs12 grey-text').get_text())\n",
    "            else:\n",
    "                discription.append('notFound')\n",
    "        nextPage=naukri.find_element_by_xpath('//*[@id=\"root\"]/div[3]/div[2]/section[2]/div[3]/a[2]')\n",
    "        time.sleep(3)\n",
    "        nextPage.click()\n",
    "        time.sleep(3)\n",
    "        naukriSoup=bs(naukri.page_source.encode('utf-8'))\n",
    "    naukri.quit()\n",
    "else:\n",
    "    print('no pages found')\n",
    "    naukri.quit()"
   ],
   "outputs": [
    {
     "output_type": "stream",
     "name": "stdout",
     "text": [
      "no pages found\n"
     ]
    },
    {
     "output_type": "stream",
     "name": "stderr",
     "text": [
      "/home/sunild/anaconda3/lib/python3.8/site-packages/bs4/builder/__init__.py:303: ResourceWarning: unclosed <socket.socket fd=69, family=AddressFamily.AF_INET, type=SocketKind.SOCK_STREAM, proto=6, laddr=('127.0.0.1', 41294), raddr=('127.0.0.1', 51301)>\n",
      "  for attr in list(attrs.keys()):\n",
      "ResourceWarning: Enable tracemalloc to get the object allocation traceback\n"
     ]
    }
   ],
   "metadata": {}
  },
  {
   "cell_type": "markdown",
   "source": [
    "########## \n",
    "# to get all search result jobs rather than only top 10 pages(if exists) follow: \n",
    "# to get all jobs get total no in serach reesults and then keep a counter in inner for loop.\n",
    "# then stop when counter passes totla search result no.\n",
    "##########"
   ],
   "metadata": {}
  },
  {
   "cell_type": "code",
   "execution_count": 119,
   "source": [
    "# store in whatever formate you want to for further implementation of methos\n",
    "# json, csv, or ..... "
   ],
   "outputs": [],
   "metadata": {}
  }
 ],
 "metadata": {
  "orig_nbformat": 4,
  "language_info": {
   "name": "python",
   "version": "3.8.5",
   "mimetype": "text/x-python",
   "codemirror_mode": {
    "name": "ipython",
    "version": 3
   },
   "pygments_lexer": "ipython3",
   "nbconvert_exporter": "python",
   "file_extension": ".py"
  },
  "kernelspec": {
   "name": "python3",
   "display_name": "Python 3.8.5 64-bit ('base': conda)"
  },
  "interpreter": {
   "hash": "20d64e6457634db286bb2f57e568cdcaaf14f5fbfe37d467c75a4a80d0f4d780"
  }
 },
 "nbformat": 4,
 "nbformat_minor": 2
}