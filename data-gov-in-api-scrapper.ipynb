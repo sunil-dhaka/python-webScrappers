{
 "cells": [
  {
   "cell_type": "code",
   "execution_count": null,
   "source": [
    "from selenium import webdriver\n",
    "from bs4 import BeautifulSoup as bs\n",
    "from selenium.webdriver.common.keys import Keys #bould use to neviagete more interactively\n",
    "import time"
   ],
   "outputs": [],
   "metadata": {}
  },
  {
   "cell_type": "code",
   "execution_count": null,
   "source": [
    "link='https://data.gov.in/'\n",
    "dataGov=webdriver.Chrome()\n",
    "dataGov.get(link)"
   ],
   "outputs": [],
   "metadata": {}
  },
  {
   "cell_type": "code",
   "execution_count": null,
   "source": [
    "## --------------- although can do without logIn(comment this cell) but I wanted it to be authentic -------- ##\n",
    "# login\n",
    "time.sleep(5)\n",
    "login=dataGov.find_element_by_xpath('//*[@id=\"block-common-utility-comutil-user-login-new-block\"]/div/a[1]')\n",
    "login.click()\n",
    "\n",
    "# user input\n",
    "number=input('your dataGov registered mobile no: ')\n",
    "passwd=input('your corresponding password: ')\n",
    "time.sleep(5)\n",
    "# login input\n",
    "mobile=dataGov.find_element_by_xpath('//*[@id=\"edit-name\"]')\n",
    "mobile.send_keys(number)\n",
    "pwd=dataGov.find_element_by_xpath('//*[@id=\"edit-pass\"]')\n",
    "pwd.send_keys(passwd)\n",
    "pwd.submit()"
   ],
   "outputs": [],
   "metadata": {}
  },
  {
   "cell_type": "code",
   "execution_count": null,
   "source": [
    "time.sleep(5)\n",
    "apibtn=dataGov.find_element_by_xpath('//*[@id=\"block-views-home-manager-index-block-2\"]/div/div/div/div/ul/li/div[2]/span[2]/a')\n",
    "apibtn.click()\n",
    "time.sleep(5)"
   ],
   "outputs": [],
   "metadata": {}
  },
  {
   "cell_type": "code",
   "execution_count": null,
   "source": [
    "def total_pages():\n",
    "    # got to the last element\n",
    "    time.sleep(2)\n",
    "    last=dataGov.find_element_by_xpath('//*[@id=\"apis_listings\"]/div[2]/nav/ul/li[7]/a')\n",
    "    last.click()\n",
    "    # let it load an then get total pages count \n",
    "    time.sleep(5)\n",
    "    last_digit=dataGov.find_element_by_xpath('//*[@id=\"apis_listings\"]/div[2]/nav/ul/li[5]/a')\n",
    "    last_digit=int(last_digit.text)\n",
    "    # go back to the first page\n",
    "    time.sleep(2)\n",
    "    first=dataGov.find_element_by_xpath('//*[@id=\"apis_listings\"]/div[2]/nav/ul/li[1]/a')\n",
    "    first.click()\n",
    "    time.sleep(5)\n",
    "    return last_digit\n",
    "\n",
    "no_of_pages=total_pages()"
   ],
   "outputs": [],
   "metadata": {}
  },
  {
   "cell_type": "code",
   "execution_count": null,
   "source": [
    "print('total number of API pages -----',no_of_pages)"
   ],
   "outputs": [],
   "metadata": {}
  },
  {
   "cell_type": "code",
   "execution_count": null,
   "source": [
    "api_link=list()\n",
    "api_title=list()\n",
    "api_departments=list()\n",
    "api_sectors=list()\n",
    "date_created=list()\n",
    "last_update=list()\n",
    "\n",
    "requested_pages=int(input('how many pages to scrap -->'))\n",
    "counter=1\n",
    "curr_soup=bs(dataGov.page_source.encode('utf-8'))\n",
    "while((counter <= requested_pages) and (counter <= no_of_pages)):\n",
    "    print('now processing page no .......',counter)\n",
    "    time.sleep(5)\n",
    "    for data in curr_soup.find_all('div',{'class':'apifrom_dataset'}):\n",
    "        # link and title\n",
    "        api_link.append(data.a.get('href'))\n",
    "        api_title.append(data.a.h3.string)\n",
    "        # departments\n",
    "        # needs bit cleaning\n",
    "        api_departments.append(data.p.get_text())\n",
    "        #sectors\n",
    "        #needs cleaning\n",
    "        api_sectors.append(data.div.get_text())\n",
    "        # if-else to ensure programme does not get stuck due to some missing data\n",
    "        # if-else can be added for above but IG they will be there; if there should be any entry\n",
    "        if data.find('div',{'class':'created_date'})!=None:\n",
    "            date_created.append(data.find('div',{'class':'created_date'}).get_text())\n",
    "        else:\n",
    "            date_created.append('notFound')\n",
    "        if data.find('div',{'class':'updated_date'})!=None:\n",
    "            last_update.append(data.find('div',{'class':'updated_date'}).get_text())\n",
    "        else:\n",
    "            last_update.append('notFound')\n",
    "    counter+=1\n",
    "    if counter <= no_of_pages: # just to avoid last page not finding next element\n",
    "        next=dataGov.find_element_by_partial_link_text('Next >')\n",
    "        next.click()\n",
    "        time.sleep(5)\n",
    "        curr_soup=bs(dataGov.page_source.encode('utf-8'))\n",
    "dataGov.quit()"
   ],
   "outputs": [],
   "metadata": {}
  }
 ],
 "metadata": {
  "orig_nbformat": 4,
  "language_info": {
   "name": "python",
   "version": "3.8.5",
   "mimetype": "text/x-python",
   "codemirror_mode": {
    "name": "ipython",
    "version": 3
   },
   "pygments_lexer": "ipython3",
   "nbconvert_exporter": "python",
   "file_extension": ".py"
  },
  "kernelspec": {
   "name": "python3",
   "display_name": "Python 3.8.5 64-bit ('base': conda)"
  },
  "interpreter": {
   "hash": "20d64e6457634db286bb2f57e568cdcaaf14f5fbfe37d467c75a4a80d0f4d780"
  }
 },
 "nbformat": 4,
 "nbformat_minor": 2
}